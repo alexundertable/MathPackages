{
 "cells": [
  {
   "cell_type": "markdown",
   "metadata": {},
   "source": [
    "### Лабороторная работа №3\n",
    "Кодуков А.В. 9382 в.7\n",
    "\n",
    "Цель работы – практическое применение библиотеки символьных вычислений Python\n",
    "(SymPy) для решения задач дискретной математики и математической логики."
   ]
  },
  {
   "cell_type": "markdown",
   "metadata": {},
   "source": [
    "## 1 Решить свой вариант диофантова уравнения."
   ]
  },
  {
   "cell_type": "markdown",
   "metadata": {},
   "source": [
    "2147x-2166y=133"
   ]
  },
  {
   "cell_type": "code",
   "execution_count": 12,
   "metadata": {},
   "outputs": [
    {
     "name": "stdout",
     "output_type": "stream",
     "text": [
      "[(114*t_0 - 7, 113*t_0 - 7)]\n",
      "x = 114*t_0 - 7\n",
      "y = 113*t_0 - 7\n"
     ]
    }
   ],
   "source": [
    "from sympy.solvers.diophantine import diophantine\n",
    "from sympy import symbols\n",
    "x, y = symbols(\"x, y\", integer=True)\n",
    "res = list(diophantine(2147*x-2166*y-133))\n",
    "print(\"x =\", res[0][0])\n",
    "print(\"y =\", res[0][1])"
   ]
  },
  {
   "cell_type": "markdown",
   "metadata": {},
   "source": [
    "## 2 Имея открытую часть ключа RSA найти соответствующую закрытую часть и расшифровать кодированное слово."
   ]
  },
  {
   "cell_type": "markdown",
   "metadata": {},
   "source": [
    "Русское слово из четырех букв закодировано при помощи алгоритма RSA открытым ключом (e = 5,m = 39).\n",
    "Шифрованное сообщение имеет вид (32; 15; 22; 10). Подберите закрытую часть ключа и прочитайте исходное слово.\n",
    "Буквам русского алфавита соответсвуют числа в диапазоне от 2 до 32 (исключены буквы “ё” и “ъ”)."
   ]
  },
  {
   "cell_type": "code",
   "execution_count": 21,
   "metadata": {},
   "outputs": [
    {
     "name": "stdout",
     "output_type": "stream",
     "text": [
      "адов\n"
     ]
    }
   ],
   "source": [
    "from sympy.crypto.crypto import rsa_private_key, decipher_rsa, encipher_rsa\n",
    "\n",
    "letters=\"абвгдежзийклмнопрстуфхцчшщыьэюя\"\n",
    "private_key = rsa_private_key(39, 5)\n",
    "msg = [32, 15, 22, 10]\n",
    "\n",
    "decoded = []\n",
    "for sym in msg:\n",
    "    decoded.append(letters[decipher_rsa(sym, private_key) - 2])\n",
    "print(''.join(decoded))"
   ]
  },
  {
   "cell_type": "markdown",
   "metadata": {},
   "source": [
    "## 3 Записать в формате ДНФ и КНФ булеву функцию, заданную своим аналитическим выражением."
   ]
  },
  {
   "cell_type": "markdown",
   "metadata": {},
   "source": [
    "f(x, y, z) = (z ∨ (x xor y))((z xor y)(x ∨ y))"
   ]
  },
  {
   "cell_type": "code",
   "execution_count": 26,
   "metadata": {},
   "outputs": [
    {
     "name": "stdout",
     "output_type": "stream",
     "text": [
      "DNF: (x & z & ~y) | (y & ~x & ~z)\n",
      "CNF: (x | y) & (z | ~x) & (~y | ~z)\n"
     ]
    }
   ],
   "source": [
    "from sympy.logic.boolalg import to_dnf, to_cnf\n",
    "from sympy.abc import x, y, z\n",
    "\n",
    "print(\"DNF:\", to_dnf((z | (x ^ y)) & ((z ^ y) & (x | y)), True))\n",
    "print(\"CNF:\", to_cnf((z | (x ^ y)) & ((z ^ y) & (x | y)), True))"
   ]
  },
  {
   "cell_type": "markdown",
   "metadata": {},
   "source": [
    "### Вывод: \n",
    "были изучены основы работы с библиотекой sympy и с помощью нее решены задачи дискретной математики и математической логики"
   ]
  }
 ],
 "metadata": {
  "kernelspec": {
   "display_name": "Python 3",
   "language": "python",
   "name": "python3"
  },
  "language_info": {
   "codemirror_mode": {
    "name": "ipython",
    "version": 3
   },
   "file_extension": ".py",
   "mimetype": "text/x-python",
   "name": "python",
   "nbconvert_exporter": "python",
   "pygments_lexer": "ipython3",
   "version": "3.7.6"
  }
 },
 "nbformat": 4,
 "nbformat_minor": 4
}
